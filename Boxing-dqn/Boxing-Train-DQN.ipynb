{
 "cells": [
  {
   "cell_type": "markdown",
   "metadata": {},
   "source": [
    "## 0.1 Vanilla DQN Architecture"
   ]
  },
  {
   "cell_type": "markdown",
   "metadata": {},
   "source": [
    "### 0.1.1 Import Required Libraries"
   ]
  },
  {
   "cell_type": "code",
   "execution_count": 1,
   "metadata": {},
   "outputs": [],
   "source": [
    "import math, random, time\n",
    "\n",
    "import gym\n",
    "import numpy as np\n",
    "import pandas as pd\n",
    "\n",
    "import torch\n",
    "import torch.nn as nn\n",
    "import torch.optim as optim\n",
    "import torch.autograd as autograd \n",
    "import torch.nn.functional as F\n",
    "\n",
    "from IPython.display import clear_output\n",
    "import matplotlib.pyplot as plt\n",
    "%matplotlib inline"
   ]
  },
  {
   "cell_type": "code",
   "execution_count": 2,
   "metadata": {},
   "outputs": [],
   "source": [
    "# Set PyTorch Device for tensors\n",
    "device = \"cuda\" if torch.cuda.is_available() else \"cpu\""
   ]
  },
  {
   "cell_type": "markdown",
   "metadata": {},
   "source": [
    "### 0.1.2 Define Basic Replay Buffer Implementation"
   ]
  },
  {
   "cell_type": "code",
   "execution_count": 3,
   "metadata": {},
   "outputs": [],
   "source": [
    "from collections import deque\n",
    "\n",
    "class ReplayBuffer(object):\n",
    "    def __init__(self, capacity):\n",
    "        self.buffer = deque(maxlen=capacity)\n",
    "    \n",
    "    # Append new experience tuple to replay buffer\n",
    "    def push(self, state, action, reward, next_state, done):\n",
    "        state      = np.expand_dims(state, 0)\n",
    "        next_state = np.expand_dims(next_state, 0)\n",
    "            \n",
    "        self.buffer.append((state, action, reward, next_state, done))\n",
    "    \n",
    "    # Select experience from replay buffer\n",
    "    def sample(self, batch_size):\n",
    "        state, action, reward, next_state, done = zip(*random.sample(self.buffer, batch_size))\n",
    "        return np.concatenate(state), action, reward, np.concatenate(next_state), done\n",
    "    \n",
    "    def __len__(self):\n",
    "        return len(self.buffer)"
   ]
  },
  {
   "cell_type": "markdown",
   "metadata": {},
   "source": [
    "### 0.1.3 Create Lamba Function for Epsilon Greedy Strategy"
   ]
  },
  {
   "cell_type": "code",
   "execution_count": 4,
   "metadata": {},
   "outputs": [
    {
     "data": {
      "text/plain": [
       "[<matplotlib.lines.Line2D at 0x12c7f4e80>]"
      ]
     },
     "execution_count": 4,
     "metadata": {},
     "output_type": "execute_result"
    },
    {
     "data": {
      "image/png": "[encoded data removed]",
      "text/plain": [
       "<Figure size 432x288 with 1 Axes>"
      ]
     },
     "metadata": {
      "needs_background": "light"
     },
     "output_type": "display_data"
    }
   ],
   "source": [
    "# Hyperparameters for epsilon greedy strategy\n",
    "epsilon_start = 1.0\n",
    "epsilon_final = 0.01\n",
    "epsilon_decay = 500\n",
    "\n",
    "# Function computes current exploration rate for given frame\n",
    "epsilon_by_frame = lambda frame_idx: epsilon_final + (epsilon_start - epsilon_final) * math.exp(-1. * frame_idx / epsilon_decay)\n",
    "\n",
    "plt.plot([epsilon_by_frame(i) for i in range(10000)])"
   ]
  },
  {
   "cell_type": "markdown",
   "metadata": {},
   "source": [
    "### 0.1.4 Build Classes for DQN"
   ]
  },
  {
   "cell_type": "code",
   "execution_count": 5,
   "metadata": {},
   "outputs": [],
   "source": [
    "class DQN(nn.Module):\n",
    "    # DQN follows typical feedforward neural network architecture\n",
    "    def __init__(self, num_inputs, num_actions):\n",
    "        super(DQN, self).__init__()\n",
    "        \n",
    "        self.layers = nn.Sequential(\n",
    "            nn.Linear(env.observation_space.shape[0], 128),\n",
    "            nn.ReLU(),\n",
    "            nn.Linear(128, 128),\n",
    "            nn.ReLU(),\n",
    "            nn.Linear(128, env.action_space.n)\n",
    "        )\n",
    "        \n",
    "    def forward(self, x):\n",
    "        return self.layers(x)\n",
    "    \n",
    "    # Choose action using epsilon greedy strategy: choose random action with probability epsilon\n",
    "    def choose_action(self, state, epsilon):\n",
    "        if random.random() > epsilon:\n",
    "            state   = torch.FloatTensor(state).unsqueeze(0)\n",
    "            q_value = self.forward(state)\n",
    "            action  = q_value.max(1)[1].data[0]\n",
    "        else:\n",
    "            action = random.randrange(env.action_space.n)\n",
    "        return action"
   ]
  },
  {
   "cell_type": "markdown",
   "metadata": {},
   "source": [
    "### 0.1.5 Build Functions for Computing Temporal Difference Loss"
   ]
  },
  {
   "cell_type": "code",
   "execution_count": 6,
   "metadata": {},
   "outputs": [],
   "source": [
    "def compute_td_loss(batch_size):\n",
    "    # Loss here is calculated as the MSE between the current Q-value and next Q-values\n",
    "    state, action, reward, next_state, done = replay_buffer.sample(batch_size)\n",
    "\n",
    "    state      = torch.FloatTensor(np.float32(state))\n",
    "    next_state = torch.FloatTensor(np.float32(next_state))\n",
    "    action     = torch.LongTensor(action)\n",
    "    reward     = torch.FloatTensor(reward)\n",
    "    done       = torch.FloatTensor(done)\n",
    "\n",
    "    q_values      = model(state)\n",
    "    next_q_values = model(next_state)\n",
    "\n",
    "    # Select next action which maximises reward\n",
    "    q_value          = q_values.gather(1, action.unsqueeze(1)).squeeze(1)\n",
    "    next_q_value     = next_q_values.max(1)[0]\n",
    "    expected_q_value = reward + gamma * next_q_value * (1 - done)\n",
    "    \n",
    "    # Calculate MSE\n",
    "    loss = (q_value - expected_q_value.data).pow(2).mean()\n",
    "\n",
    "    # Update network\n",
    "    optimizer.zero_grad()\n",
    "    loss.backward()\n",
    "    optimizer.step()\n",
    "    \n",
    "    return loss\n",
    "\n"
   ]
  },
  {
   "cell_type": "markdown",
   "metadata": {},
   "source": [
    "### 0.1.6 Helper Function for Plotting Rewards & Loss"
   ]
  },
  {
   "cell_type": "code",
   "execution_count": 7,
   "metadata": {},
   "outputs": [],
   "source": [
    "def plot(frame_idx, rewards, losses):\n",
    "    # Clear previous output from the notebook\n",
    "    clear_output(True)\n",
    "    plt.figure(figsize=(20,5), )\n",
    "    ax1 = plt.subplot(131)\n",
    "    plt.title('frame %s. reward: %s' % (frame_idx, np.mean(rewards[-10:])))\n",
    "    # Plot rewards\n",
    "    plt.plot(rewards)\n",
    "    ax2 = plt.subplot(132)\n",
    "    plt.title('loss')\n",
    "    # Plot losses\n",
    "    plt.plot(losses)\n",
    "    plt.savefig('../charts/dqn_plot.png')\n",
    "    plt.show()"
   ]
  },
  {
   "cell_type": "markdown",
   "metadata": {},
   "source": [
    "### 0.1.7 Train DQN and Save Model at Various Periods"
   ]
  },
  {
   "cell_type": "code",
   "execution_count": 8,
   "metadata": {},
   "outputs": [
    {
     "data": {
      "image/png": "[encoded data removed]",
      "text/plain": [
       "<Figure size 1440x360 with 2 Axes>"
      ]
     },
     "metadata": {
      "needs_background": "light"
     },
     "output_type": "display_data"
    },
    {
     "name": "stdout",
     "output_type": "stream",
     "text": [
      "Percentage of Frames Complete: 100.00\n"
     ]
    }
   ],
   "source": [
    "# Hyperparameters\n",
    "num_frames = 5e6\n",
    "model_save_frames  = [1e4, 1e5, 2.5e5, 5e5, 1e6, 2e6, 3e6, 4e6, 5e6]\n",
    "batch_size = 64\n",
    "pre_warm_memory_size   = 5e4\n",
    "gamma = 0.99\n",
    "buffer_size = int(1e6)\n",
    "\n",
    "# Variables to keep track of frame losses, episode rewards, and current episode reward\n",
    "losses = []\n",
    "all_rewards = []\n",
    "episode_reward = 0\n",
    "\n",
    "# Initialise environmnet\n",
    "env_id = \"Boxing-ram-v0\"\n",
    "env = gym.make(env_id)\n",
    "\n",
    "state = env.reset()\n",
    "\n",
    "# Create DQN model\n",
    "model = DQN(env.observation_space.shape[0], env.action_space.n).to(device)\n",
    "\n",
    "# Set optimiser\n",
    "optimizer = optim.Adam(model.parameters())\n",
    "\n",
    "# Set replay buffer\n",
    "replay_buffer = ReplayBuffer(buffer_size)\n",
    "\n",
    "# Define training loop\n",
    "for frame_idx in range(1, int(num_frames) + 1):\n",
    "\n",
    "    # Calculate epsilon value to determine explore/exploit\n",
    "    epsilon = epsilon_by_frame(frame_idx)\n",
    "    # Select action using DQN\n",
    "    action = model.choose_action(state, epsilon)\n",
    "    \n",
    "    # Move through environment based on the selected action\n",
    "    next_state, reward, done, _ = env.step(action)\n",
    "    # Store transition in replay memory\n",
    "    replay_buffer.push(state, action, reward, next_state, done)\n",
    "\n",
    "    # Get next state\n",
    "    state = next_state\n",
    "    # Keep track of total reward by episode\n",
    "    episode_reward += reward\n",
    "    \n",
    "    # If the latest action ended the episode, reset as required\n",
    "    if done:\n",
    "        state = env.reset()\n",
    "        all_rewards.append(episode_reward)\n",
    "        episode_reward = 0\n",
    "\n",
    "    # If the buffer is big enough, propagate through DQN\n",
    "    if len(replay_buffer) > pre_warm_memory_size:\n",
    "        # Calulate network loss\n",
    "        loss = compute_td_loss(batch_size)\n",
    "        \n",
    "        # Handle instances where loss is empty\n",
    "        try:\n",
    "            losses.append(loss.data[0])\n",
    "        except IndexError:\n",
    "            losses.append(loss.item())\n",
    "    \n",
    "    # Save and plot training metrics\n",
    "    if frame_idx % 2000 == 0:\n",
    "        plot(frame_idx, all_rewards, losses)\n",
    "        print(\"Percentage of Frames Complete: {:.2f}\".format(100 * frame_idx / num_frames))\n",
    "        \n",
    "        rewards_df = pd.DataFrame({'rewards': all_rewards})\n",
    "        losses_df = pd.DataFrame({'losses': losses})\n",
    "        \n",
    "        rewards_df.to_csv('../output/rewards/boxing_dqn.csv', index=False)\n",
    "        losses_df.to_csv('../output/losses/boxing_dqn.csv', index=False)\n",
    "\n",
    "    # Save models\n",
    "    if frame_idx in model_save_frames:\n",
    "        torch.save(model, \"../models/dqn_%s_%s.model\" % (env_id, frame_idx))"
   ]
  }
 ],
 "metadata": {
  "kernelspec": {
   "display_name": "Python 3",
   "language": "python",
   "name": "python3"
  },
  "language_info": {
   "codemirror_mode": {
    "name": "ipython",
    "version": 3
   },
   "file_extension": ".py",
   "mimetype": "text/x-python",
   "name": "python",
   "nbconvert_exporter": "python",
   "pygments_lexer": "ipython3",
   "version": "3.7.3"
  }
 },
 "nbformat": 4,
 "nbformat_minor": 4
}

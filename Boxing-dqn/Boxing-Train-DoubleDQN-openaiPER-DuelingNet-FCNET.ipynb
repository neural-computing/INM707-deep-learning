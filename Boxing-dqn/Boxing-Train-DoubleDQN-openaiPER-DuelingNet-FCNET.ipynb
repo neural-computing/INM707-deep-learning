{
 "cells": [
  {
   "cell_type": "markdown",
   "metadata": {},
   "source": [
    "## DoubleDQN with Prioritized Replay (PER) and Dueling Network Architecture\n",
    "\n",
    "Pytorch Learning rate is also Annealed throughout beginning of learning to enable larger updates at first."
   ]
  },
  {
   "cell_type": "markdown",
   "metadata": {},
   "source": [
    "### Import Required Libraries"
   ]
  },
  {
   "cell_type": "code",
   "execution_count": 1,
   "metadata": {},
   "outputs": [],
   "source": [
    "import math, random, time\n",
    "\n",
    "import gym\n",
    "import numpy as np\n",
    "\n",
    "import torch\n",
    "import torch.nn as nn\n",
    "import torch.optim as optim\n",
    "import torch.nn.functional as F\n",
    "\n",
    "from IPython.display import clear_output\n",
    "import matplotlib.pyplot as plt\n",
    "%matplotlib inline\n",
    "\n",
    "from common.replay_buffer import PrioritizedReplayBuffer\n",
    "\n",
    "device = \"cuda\" if torch.cuda.is_available() else \"cpu\""
   ]
  },
  {
   "cell_type": "markdown",
   "metadata": {},
   "source": [
    "### Build Prioritized Memory Replay Buffer"
   ]
  },
  {
   "cell_type": "code",
   "execution_count": 2,
   "metadata": {},
   "outputs": [],
   "source": [
    "class NaivePrioritizedBuffer(object):\n",
    "    def __init__(self, capacity, prob_alpha=0.6):\n",
    "        self.prob_alpha = prob_alpha\n",
    "        self.capacity   = capacity\n",
    "        self.buffer     = []\n",
    "        self.pos        = 0\n",
    "        self.priorities = np.zeros((capacity,), dtype=np.float32)\n",
    "    \n",
    "    def add(self, state, action, reward, next_state, done):\n",
    "        assert state.ndim == next_state.ndim\n",
    "        state      = np.expand_dims(state, 0)\n",
    "        next_state = np.expand_dims(next_state, 0)\n",
    "        \n",
    "        max_prio = self.priorities.max() if self.buffer else 1.0\n",
    "        \n",
    "        if len(self.buffer) < self.capacity:\n",
    "            self.buffer.append((state, action, reward, next_state, done))\n",
    "        else:\n",
    "            self.buffer[self.pos] = (state, action, reward, next_state, done)\n",
    "        \n",
    "        self.priorities[self.pos] = max_prio\n",
    "        self.pos = (self.pos + 1) % self.capacity\n",
    "    \n",
    "    def sample(self, batch_size, beta=0.4):\n",
    "        if len(self.buffer) == self.capacity:\n",
    "            prios = self.priorities\n",
    "        else:\n",
    "            prios = self.priorities[:self.pos]\n",
    "        \n",
    "        probs  = prios ** self.prob_alpha\n",
    "        probs /= probs.sum()\n",
    "        \n",
    "        indices = np.random.choice(len(self.buffer), batch_size, p=probs)\n",
    "        samples = [self.buffer[idx] for idx in indices]\n",
    "        \n",
    "        total    = len(self.buffer)\n",
    "        weights  = (total * probs[indices]) ** (-beta)\n",
    "        weights /= weights.max()\n",
    "        weights  = np.array(weights, dtype=np.float32)\n",
    "        \n",
    "        batch       = list(zip(*samples))\n",
    "        states      = np.concatenate(batch[0])\n",
    "        actions     = batch[1]\n",
    "        rewards     = batch[2]\n",
    "        next_states = np.concatenate(batch[3])\n",
    "        dones       = batch[4]\n",
    "        \n",
    "        return [torch.FloatTensor(states), torch.LongTensor(actions),\n",
    "                torch.FloatTensor(rewards), torch.FloatTensor(next_states),\n",
    "                torch.FloatTensor(dones), indices, torch.FloatTensor(weights)]\n",
    "    \n",
    "    def update_priorities(self, batch_indices, batch_priorities):\n",
    "        for batch_index, priority in zip(batch_indices, batch_priorities):\n",
    "            self.priorities[batch_index] = priority\n",
    "\n",
    "    def __len__(self):\n",
    "        return len(self.buffer)\n"
   ]
  },
  {
   "cell_type": "markdown",
   "metadata": {},
   "source": [
    "### Build Lambda Functions for Epsilon Greedy Strategy and Annealing of PER's beta parameter "
   ]
  },
  {
   "cell_type": "code",
   "execution_count": 3,
   "metadata": {},
   "outputs": [
    {
     "data": {
      "text/plain": [
       "[<matplotlib.lines.Line2D at 0x7f90405a3c50>]"
      ]
     },
     "execution_count": 3,
     "metadata": {},
     "output_type": "execute_result"
    },
    {
     "data": {
      "image/png": "[encoded data removed]",
      "text/plain": [
       "<Figure size 432x288 with 1 Axes>"
      ]
     },
     "metadata": {
      "needs_background": "light"
     },
     "output_type": "display_data"
    }
   ],
   "source": [
    "beta_start = 0.4\n",
    "beta_frames = 1000 \n",
    "beta_by_frame = lambda frame_idx: min(1.0, beta_start + frame_idx * (1.0 - beta_start) / beta_frames)\n",
    "\n",
    "plt.plot([beta_by_frame(i) for i in range(10000)])\n",
    "\n",
    "epsilon_start = 1.0\n",
    "epsilon_final = 0.01\n",
    "epsilon_decay = 500\n",
    "\n",
    "epsilon_by_frame = lambda frame_idx: epsilon_final + (epsilon_start - epsilon_final) * math.exp(-1. * frame_idx / epsilon_decay)\n",
    "\n",
    "plt.plot([epsilon_by_frame(i) for i in range(10000)])"
   ]
  },
  {
   "cell_type": "markdown",
   "metadata": {},
   "source": [
    "### Build Classes for DQN and Dueling DQN (Linear)"
   ]
  },
  {
   "cell_type": "code",
   "execution_count": 4,
   "metadata": {},
   "outputs": [],
   "source": [
    "class DQN(nn.Module):\n",
    "    def __init__(self, num_inputs, num_actions):\n",
    "        super(DQN, self).__init__()\n",
    "        \n",
    "        self.layers = nn.Sequential(\n",
    "            nn.Linear(env.observation_space.shape[0], 128),\n",
    "            nn.ReLU(),\n",
    "            nn.Linear(128, 128),\n",
    "            nn.ReLU(),\n",
    "            nn.Linear(128, env.action_space.n)\n",
    "        )\n",
    "        \n",
    "    def forward(self, x):\n",
    "        return self.layers(x)\n",
    "    \n",
    "    def choose_action(self, state, epsilon):\n",
    "        if random.random() > epsilon:\n",
    "            with torch.no_grad():\n",
    "                state   = torch.from_numpy(state).unsqueeze(0)\n",
    "            q_value = self.forward(state)\n",
    "            action  = q_value.max(1)[1].item()\n",
    "        else:\n",
    "            action = random.randrange(env.action_space.n)\n",
    "        return action\n",
    "\n",
    "class DuelingDQN(nn.Module):\n",
    "    def __init__(self, num_inputs, num_outputs):\n",
    "        super(DuelingDQN, self).__init__()\n",
    "        \n",
    "        \n",
    "        self.feature = nn.Sequential(\n",
    "            nn.Linear(num_inputs, 128),\n",
    "            nn.ReLU()\n",
    "        )\n",
    "        \n",
    "        self.advantage = nn.Sequential(\n",
    "            nn.Linear(128, 128),\n",
    "            nn.ReLU(),\n",
    "            nn.Linear(128, num_outputs)\n",
    "        )\n",
    "        \n",
    "        self.value = nn.Sequential(\n",
    "            nn.Linear(128, 128),\n",
    "            nn.ReLU(),\n",
    "            nn.Linear(128, 1)\n",
    "        )\n",
    "        \n",
    "    def forward(self, x):\n",
    "        x = self.feature(x)\n",
    "        advantage = self.advantage(x)\n",
    "        value     = self.value(x)\n",
    "        return value + advantage  - advantage.mean()\n",
    "    \n",
    "    def choose_action(self, state, epsilon):\n",
    "        if random.random() > epsilon:\n",
    "            with torch.no_grad():\n",
    "                state   = torch.FloatTensor(state).unsqueeze(0)\n",
    "            q_value = self.forward(state)\n",
    "            action  = q_value.max(1)[1].item()\n",
    "        else:\n",
    "            action = random.randrange(env.action_space.n)\n",
    "        return action"
   ]
  },
  {
   "cell_type": "markdown",
   "metadata": {},
   "source": [
    "### Build Functions for computing the temporal difference loss."
   ]
  },
  {
   "cell_type": "code",
   "execution_count": 5,
   "metadata": {},
   "outputs": [],
   "source": [
    "def compute_td_loss_double_huber(batch_size, beta):\n",
    "    \"\"\"\n",
    "    For double DQN we use the policy network for estimating the  current and next q values\n",
    "    whilst using the target network also to estimate the next q values.\n",
    "    The estimates for the next q values from the policy network are then used to pick the next action whilst the\n",
    "    estimate from the policy nextwork is then used to rate how good that action was.\n",
    "    \"\"\"\n",
    "    state, action, reward, next_state, done, indices, weights = replay_buffer.sample(batch_size, beta)\n",
    "\n",
    "    state      = torch.FloatTensor(state)\n",
    "    next_state = torch.FloatTensor(next_state)\n",
    "    action     = torch.LongTensor(action)\n",
    "    reward     = torch.FloatTensor(reward)\n",
    "    done       = torch.FloatTensor(done)\n",
    "    weights    = torch.FloatTensor(weights)\n",
    "    \n",
    "    q_values      = current_model(state)\n",
    "    next_q_values = current_model(next_state)\n",
    "    next_q_state_values = target_model(next_state) \n",
    "\n",
    "    q_value       = q_values.gather(1, action.unsqueeze(1)).squeeze(1) \n",
    "    next_q_value = next_q_state_values.gather(1, torch.max(next_q_values, 1)[1].unsqueeze(1)).squeeze(1)\n",
    "    expected_q_value = reward + gamma * next_q_value * (1 - done)\n",
    "    \n",
    "    loss  = F.smooth_l1_loss(q_value, expected_q_value.detach(), reduction='none') * weights\n",
    "    priorities = loss + 1e-5\n",
    "    loss = loss.mean()\n",
    "\n",
    "    indices = [int(i) for i in indices]\n",
    "    \n",
    "    replay_buffer.update_priorities(indices, priorities.data.cpu().numpy())\n",
    "\n",
    "    return loss\n"
   ]
  },
  {
   "cell_type": "markdown",
   "metadata": {},
   "source": [
    "### Helper Functions for plotting and model updates"
   ]
  },
  {
   "cell_type": "code",
   "execution_count": 6,
   "metadata": {},
   "outputs": [],
   "source": [
    "def plot(frame_idx, rewards, losses):\n",
    "    clear_output(True)\n",
    "    plt.figure(figsize=(20,5))\n",
    "    ax1 = plt.subplot(131)\n",
    "    plt.title('frame %s. reward: %s' % (frame_idx, np.mean(rewards[-10:])))\n",
    "    plt.plot(rewards)\n",
    "    ax2 = plt.subplot(132)\n",
    "    plt.title('loss')\n",
    "    plt.plot(losses)\n",
    "    plt.show()\n",
    "    \n",
    "def update_target(current_model, target_model):\n",
    "    target_model.load_state_dict(current_model.state_dict())"
   ]
  },
  {
   "cell_type": "markdown",
   "metadata": {},
   "source": [
    "### Train DQN and save model after various training periods."
   ]
  },
  {
   "cell_type": "code",
   "execution_count": 9,
   "metadata": {},
   "outputs": [
    {
     "data": {
      "image/png": "[encoded data removed]",
      "text/plain": [
       "<Figure size 1440x360 with 2 Axes>"
      ]
     },
     "metadata": {
      "needs_background": "light"
     },
     "output_type": "display_data"
    },
    {
     "name": "stdout",
     "output_type": "stream",
     "text": [
      "Learning Rate Set to: 4.71e-05\n",
      "Percentage of Frames Complete: 100.00\n"
     ]
    }
   ],
   "source": [
    "#Hyperparameters\n",
    "num_frames             = 5e6\n",
    "model_save_frames      = [1e4, 1e5, 2.5e5, 5e5, 1e6, 2e6, 3e6, 4e6, 5e6]\n",
    "batch_size             = 64\n",
    "pre_warm_memory_size   = 5e4\n",
    "gamma                  = 0.99\n",
    "target_network_refresh = 100\n",
    "buffer_size            = int(1e6)\n",
    "learning_rate          = 1e-3\n",
    "decay_rate             = 0.9\n",
    "min_learning_rate      = 5e-5\n",
    "alpha                  = 0.6\n",
    "\n",
    "#Toggles\n",
    "dueling_dqn            = True\n",
    "render                 = False\n",
    "decay_learning_rate    = True\n",
    "\n",
    "#Initialize Counters/Variables\n",
    "losses                 = []\n",
    "all_rewards            = []\n",
    "episode_reward         = 0\n",
    "buffer_warmed          = False\n",
    "env_id                 = \"Boxing-ram-v0\"\n",
    "env = gym.make(env_id)\n",
    "state = env.reset()\n",
    "assert pre_warm_memory_size >= batch_size \n",
    "\n",
    "##########################################################\n",
    "##########################################################\n",
    "\n",
    "if dueling_dqn:\n",
    "    current_model = DuelingDQN(env.observation_space.shape[0], env.action_space.n).to(device)\n",
    "    target_model  = DuelingDQN(env.observation_space.shape[0], env.action_space.n).to(device)\n",
    "else:\n",
    "    current_model = DQN(env.observation_space.shape[0], env.action_space.n).to(device)\n",
    "    target_model  = DQN(env.observation_space.shape[0], env.action_space.n).to(device)\n",
    "    \n",
    "target_model.eval()\n",
    "\n",
    "update_target(current_model, target_model)\n",
    "\n",
    "optimizer = optim.Adam(current_model.parameters(), lr=learning_rate)\n",
    "my_lr_scheduler = optim.lr_scheduler.ExponentialLR(optimizer=optimizer, gamma=decay_rate)\n",
    "\n",
    "replay_buffer = PrioritizedReplayBuffer(buffer_size, alpha)\n",
    "\n",
    "##########################################################\n",
    "##########################################################\n",
    "\n",
    "for frame_idx in range(1, int(num_frames) + 1):\n",
    "    if render:\n",
    "        env.render()\n",
    "    epsilon = epsilon_by_frame(frame_idx)\n",
    "    action = current_model.choose_action(state, epsilon)\n",
    "    \n",
    "    next_state, reward, done, _ = env.step(action)\n",
    "    replay_buffer.add(state, action, reward, next_state, done)\n",
    "    \n",
    "    state = next_state\n",
    "    episode_reward += reward\n",
    "    \n",
    "    if done:\n",
    "        state = env.reset()\n",
    "        all_rewards.append(episode_reward)\n",
    "        episode_reward = 0\n",
    "        \n",
    "    if len(replay_buffer) > pre_warm_memory_size:\n",
    "        beta = beta_by_frame(frame_idx)\n",
    "        loss = compute_td_loss_double_huber(batch_size, beta)\n",
    "        \n",
    "        optimizer.zero_grad()\n",
    "        loss.backward()\n",
    "        optimizer.step()\n",
    "        losses.append(loss.item())\n",
    "        \n",
    "        buffer_warmed = True\n",
    "        \n",
    "    if frame_idx % 2000 == 0:\n",
    "        plot(frame_idx, all_rewards, losses)\n",
    "        print(\"Learning Rate Set to: {:.2e}\".format(scheduler_learning_rate))\n",
    "        print(\"Percentage of Frames Complete: {:.2f}\".format(100 * frame_idx / num_frames))\n",
    "        \n",
    "    if frame_idx % target_network_refresh == 0:\n",
    "        update_target(current_model, target_model)\n",
    "    \n",
    "    if frame_idx in model_save_frames:\n",
    "        torch.save(current_model, \"./models/openai_%s_%s.model\" % (env_id, frame_idx))\n",
    "        \n",
    "    if decay_learning_rate and frame_idx % target_network_refresh == 0:\n",
    "        scheduler_learning_rate = my_lr_scheduler.get_lr()[0]\n",
    "        if scheduler_learning_rate > min_learning_rate and buffer_warmed:\n",
    "            my_lr_scheduler.step()\n",
    "            "
   ]
  },
  {
   "cell_type": "code",
   "execution_count": null,
   "metadata": {},
   "outputs": [],
   "source": []
  },
  {
   "cell_type": "code",
   "execution_count": null,
   "metadata": {},
   "outputs": [],
   "source": []
  }
 ],
 "metadata": {
  "kernelspec": {
   "display_name": "Python 3",
   "language": "python",
   "name": "python3"
  },
  "language_info": {
   "codemirror_mode": {
    "name": "ipython",
    "version": 3
   },
   "file_extension": ".py",
   "mimetype": "text/x-python",
   "name": "python",
   "nbconvert_exporter": "python",
   "pygments_lexer": "ipython3",
   "version": "3.7.3"
  }
 },
 "nbformat": 4,
 "nbformat_minor": 4
}
